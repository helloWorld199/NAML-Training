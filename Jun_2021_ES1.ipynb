{
  "nbformat": 4,
  "nbformat_minor": 0,
  "metadata": {
    "colab": {
      "provenance": [],
      "authorship_tag": "ABX9TyOLdOJH1VF8UJxPWBP/q8LK",
      "include_colab_link": true
    },
    "kernelspec": {
      "name": "python3",
      "display_name": "Python 3"
    },
    "language_info": {
      "name": "python"
    }
  },
  "cells": [
    {
      "cell_type": "markdown",
      "metadata": {
        "id": "view-in-github",
        "colab_type": "text"
      },
      "source": [
        "<a href=\"https://colab.research.google.com/github/helloWorld199/NAML-Training/blob/main/Jun_2021_ES1.ipynb\" target=\"_parent\"><img src=\"https://colab.research.google.com/assets/colab-badge.svg\" alt=\"Open In Colab\"/></a>"
      ]
    },
    {
      "cell_type": "code",
      "execution_count": 21,
      "metadata": {
        "id": "7_16DQtLqeQk"
      },
      "outputs": [],
      "source": [
        "import numpy as np\n",
        "import matplotlib.pyplot as plt"
      ]
    },
    {
      "cell_type": "code",
      "source": [
        "M = np.array([[1,1],[1,-1],[-1,1],[-1,-1]])\n",
        "U,s,VT = np.linalg.svd(M, full_matrices = False)\n",
        "\n",
        "print(\"Eigenvalues: \", s) #Equal eigenvalues\n",
        "\n",
        "#Just plotting, not requested in the exam\n",
        "fig, ax = plt.subplots(nrows=1,ncols=1)\n",
        "ax.set_ylim([-3,3])\n",
        "ax.set_xlim([-3,3])\n",
        "plt.axhline(0)\n",
        "plt.axvline(0)\n",
        "ax.scatter(M[:, 0], M[:, 1], c=\"g\")"
      ],
      "metadata": {
        "colab": {
          "base_uri": "https://localhost:8080/",
          "height": 304
        },
        "id": "UY7XrvkDurS6",
        "outputId": "0671ccad-21d7-460b-de67-598d02f8cfe7"
      },
      "execution_count": 26,
      "outputs": [
        {
          "output_type": "stream",
          "name": "stdout",
          "text": [
            "Eigenvalues:  [2. 2.]\n"
          ]
        },
        {
          "output_type": "execute_result",
          "data": {
            "text/plain": [
              "<matplotlib.collections.PathCollection at 0x7fa1dbe6df70>"
            ]
          },
          "metadata": {},
          "execution_count": 26
        },
        {
          "output_type": "display_data",
          "data": {
            "text/plain": [
              "<Figure size 432x288 with 1 Axes>"
            ],
            "image/png": "[encoded data removed]"
          },
          "metadata": {
            "needs_background": "light"
          }
        }
      ]
    },
    {
      "cell_type": "code",
      "source": [
        "M = M = np.array([[1,3],[1,-3],[-1,3],[-1,-3]])\n",
        "\n",
        "U,s,VT = np.linalg.svd(M, full_matrices = False)\n",
        "\n",
        "print(s) #Eigenvalues (should be 6 and 2)\n",
        "print(\"First eigenvector: \", VT.T[:,0]) #Eigenvectors\n",
        "print(\"Second eigenvector: \", VT.T[:,1]) #Eigenvectors\n",
        "\n",
        "\n",
        "#Just plotting, not requested in the exam\n",
        "fig, ax = plt.subplots(nrows=1,ncols=1)\n",
        "ax.set_ylim([-4, 4])\n",
        "ax.set_xlim([-3,3])\n",
        "plt.axhline(0)\n",
        "plt.axvline(0)\n",
        "ax.scatter(M[:, 0], M[:, 1], c=\"g\")\n",
        "\n",
        "origin = np.array([[0, 0],[0, 0]]) # origin point\n",
        "\n",
        "ax.quiver(*origin, VT.T[0,:], VT.T[1,:], color=['r','b'], scale=6) #the red vector is the first principal direction, the blue one the second"
      ],
      "metadata": {
        "colab": {
          "base_uri": "https://localhost:8080/",
          "height": 338
        },
        "id": "gjZPTgvavq3J",
        "outputId": "252c3fb4-e9f1-4bfe-ae62-00dbf87532a0"
      },
      "execution_count": 39,
      "outputs": [
        {
          "output_type": "stream",
          "name": "stdout",
          "text": [
            "[6. 2.]\n",
            "First eigenvector:  [0. 1.]\n",
            "Second eigenvector:  [-1. -0.]\n"
          ]
        },
        {
          "output_type": "execute_result",
          "data": {
            "text/plain": [
              "<matplotlib.quiver.Quiver at 0x7fa1dbde4f40>"
            ]
          },
          "metadata": {},
          "execution_count": 39
        },
        {
          "output_type": "display_data",
          "data": {
            "text/plain": [
              "<Figure size 432x288 with 1 Axes>"
            ],
            "image/png": "[encoded data removed]"
          },
          "metadata": {
            "needs_background": "light"
          }
        }
      ]
    },
    {
      "cell_type": "code",
      "source": [
        "M = np.array([[-1,1],[0,0],[1,1]])\n",
        "U,s,VT = np.linalg.svd(M, full_matrices = False)\n",
        "\n",
        "print(s) \n",
        "print(VT[0,:]) #principal direction\n",
        "\n",
        "PHI = M @ VT.T[:,0]\n",
        "\n",
        "print(PHI) #coordinates in the subspace spanned by the first principal component\n",
        "\n",
        "fig, ax = plt.subplots(nrows=1,ncols=1)\n",
        "ax.set_ylim([-4, 4])\n",
        "ax.set_xlim([-3,3])\n",
        "plt.axhline(0)\n",
        "plt.axvline(0)\n",
        "ax.scatter(M[:, 0], M[:, 1], c=\"g\")   #in green, original data\n",
        "ax.scatter(PHI, [0,0,0], c=\"r\")       #in red, prejected data\n",
        "\n"
      ],
      "metadata": {
        "colab": {
          "base_uri": "https://localhost:8080/",
          "height": 338
        },
        "id": "4TolM2F03urG",
        "outputId": "969fd7cc-db41-424c-d9fe-65b874d5975a"
      },
      "execution_count": 46,
      "outputs": [
        {
          "output_type": "stream",
          "name": "stdout",
          "text": [
            "[1.41421356 1.41421356]\n",
            "[1. 0.]\n",
            "[-1.  0.  1.]\n"
          ]
        },
        {
          "output_type": "execute_result",
          "data": {
            "text/plain": [
              "<matplotlib.collections.PathCollection at 0x7fa1db7c6880>"
            ]
          },
          "metadata": {},
          "execution_count": 46
        },
        {
          "output_type": "display_data",
          "data": {
            "text/plain": [
              "<Figure size 432x288 with 1 Axes>"
            ],
            "image/png": "[encoded data removed]"
          },
          "metadata": {
            "needs_background": "light"
          }
        }
      ]
    }
  ]
}