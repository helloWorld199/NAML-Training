{
  "nbformat": 4,
  "nbformat_minor": 0,
  "metadata": {
    "colab": {
      "provenance": [],
      "authorship_tag": "ABX9TyMfv9AL5EoHenibdghQtSMo",
      "include_colab_link": true
    },
    "kernelspec": {
      "name": "python3",
      "display_name": "Python 3"
    },
    "language_info": {
      "name": "python"
    }
  },
  "cells": [
    {
      "cell_type": "markdown",
      "metadata": {
        "id": "view-in-github",
        "colab_type": "text"
      },
      "source": [
        "<a href=\"https://colab.research.google.com/github/helloWorld199/NAML-Training/blob/main/Jan_2021_ES1.ipynb\" target=\"_parent\"><img src=\"https://colab.research.google.com/assets/colab-badge.svg\" alt=\"Open In Colab\"/></a>"
      ]
    },
    {
      "cell_type": "markdown",
      "source": [
        "## Exercise 1\n",
        "We consider a database containing geometrical features of iris plants. The dataset can be loaded with the following\n",
        "commands:"
      ],
      "metadata": {
        "id": "o67g4V1qOLwG"
      }
    },
    {
      "cell_type": "code",
      "execution_count": null,
      "metadata": {
        "id": "3U2Kf5pBOIvu"
      },
      "outputs": [],
      "source": [
        "import pandas as pd\n",
        "import numpy as np\n",
        "import matplotlib.pyplot as plt\n",
        "\n",
        "\n",
        "data = pd.read_csv(\"http://archive.ics.uci.edu/ml/machine-learning-databases/iris/iris.data\", header = None).to_numpy()\n",
        "A = data[:, :4].T.astype(np.float64)\n",
        "labels = data[:,4]\n",
        "groups = (\"Iris-setosa\",\"Iris-versicolor\",\"Iris-virginica\")"
      ]
    },
    {
      "cell_type": "markdown",
      "source": [
        "Each column of the matrix A refers to a sample. Each rows corresponds to a feature. Specifically: <br>\n",
        " the 1st row contains the sepal length in cm; <br> \n",
        " the 2nd row contains the sepal width in cm; <br>\n",
        " the 3rd row contains the petal length in cm; <br>\n",
        " the 4th row contains the petal width in cm. <br>\n",
        "The vector labels contains the class of iris plants each samples belongs to. There are three classes: ’Iris-setosa’,\n",
        "’Iris-versicolor’ and ’Iris-virginica’."
      ],
      "metadata": {
        "id": "_f05FtN7Oyee"
      }
    },
    {
      "cell_type": "markdown",
      "source": [
        "\n",
        "\n",
        "1.    How many samples are there in the dataset? How many samples belong to each class?\n",
        "\n"
      ],
      "metadata": {
        "id": "lLuSHKaOTCtY"
      }
    },
    {
      "cell_type": "code",
      "source": [
        "print(A.shape)        #150 samples of 4 features each\n",
        "print(labels.shape)   #150 labels\n",
        "\n",
        "print(\"Number of Iris-setosa samples:\", sum(labels == \"Iris-setosa\"))\n",
        "print(\"Number of Iris-versicolor samples:\", sum(labels == \"Iris-versicolor\"))\n",
        "print(\"Number of Iris-virginica samples:\", sum(labels == \"Iris-virginica\"))\n"
      ],
      "metadata": {
        "colab": {
          "base_uri": "https://localhost:8080/"
        },
        "id": "6zhWI0fKOjsN",
        "outputId": "066aedd1-ca23-4fbf-93bd-941586e62050"
      },
      "execution_count": null,
      "outputs": [
        {
          "output_type": "stream",
          "name": "stdout",
          "text": [
            "(4, 150)\n",
            "(150,)\n",
            "Number of Iris-setosa samples: 50\n",
            "Number of Iris-versicolor samples: 50\n",
            "Number of Iris-virginica samples: 50\n"
          ]
        }
      ]
    },
    {
      "cell_type": "markdown",
      "source": [
        "SVD Decomposition"
      ],
      "metadata": {
        "id": "D-jvS4YYh3Tg"
      }
    },
    {
      "cell_type": "code",
      "source": [
        "A_mean = np.mean(A, axis = 1)\n",
        "# !!! NB: Samples are in columns, then the principal directions will be the columns of U\n",
        "\n",
        "U, s, VT = np.linalg.svd(A - A_mean[:, None], full_matrices = False)\n",
        "\n",
        "print(U.shape)\n",
        "print(s.shape)\n",
        "print(VT.shape)"
      ],
      "metadata": {
        "colab": {
          "base_uri": "https://localhost:8080/"
        },
        "id": "5O4N4JmXVsaK",
        "outputId": "93c6b975-108a-480f-d47b-ab6e2bb74be3"
      },
      "execution_count": null,
      "outputs": [
        {
          "output_type": "stream",
          "name": "stdout",
          "text": [
            "(4, 4)\n",
            "(4,)\n",
            "(4, 150)\n"
          ]
        }
      ]
    },
    {
      "cell_type": "markdown",
      "source": [
        "Trends of:\n",
        "\n",
        "\n",
        "*   Singular values\n",
        "*   the cumulate fraction of singular values\n",
        "*   the fraction of the “explained variance”\n",
        "\n"
      ],
      "metadata": {
        "id": "j6JZYSgIh8Io"
      }
    },
    {
      "cell_type": "code",
      "source": [
        "fig, axs = plt.subplots(nrows=1,ncols=3, figsize=(15,5))\n",
        "\n",
        "#Singular values plot\n",
        "axs[0].plot(s, \"o-\")\n",
        "\n",
        "#Cumulative fraction plot\n",
        "cum_variance = []\n",
        "for i in range(len(s)):\n",
        "  var = 0\n",
        "  for j in range(i+1):\n",
        "    var += s[j]\n",
        "  cum_variance.append(var/np.sum(s))\n",
        "\n",
        "axs[1].plot(cum_variance, \"o-\")\n",
        "\n",
        "#Fraction of the \"explained variance\"\n",
        "exp_variance = []\n",
        "for i in range(len(s)):\n",
        "  var = 0\n",
        "  for j in range(i+1):\n",
        "    var += s[j]**2\n",
        "  exp_variance.append(var/np.sum(s**2))\n",
        "\n",
        "axs[2].plot(exp_variance, \"o-\")"
      ],
      "metadata": {
        "colab": {
          "base_uri": "https://localhost:8080/",
          "height": 337
        },
        "id": "J-2ddDnGiQUp",
        "outputId": "1c5b4b4f-ca3d-4790-b347-3250ca085450"
      },
      "execution_count": null,
      "outputs": [
        {
          "output_type": "execute_result",
          "data": {
            "text/plain": [
              "[<matplotlib.lines.Line2D at 0x7f7b49a4bca0>]"
            ]
          },
          "metadata": {},
          "execution_count": 55
        },
        {
          "output_type": "display_data",
          "data": {
            "text/plain": [
              "<Figure size 1080x360 with 3 Axes>"
            ],
            "image/png": "[encoded data removed]"
          },
          "metadata": {
            "needs_background": "light"
          }
        }
      ]
    },
    {
      "cell_type": "markdown",
      "source": [
        "Principal Components"
      ],
      "metadata": {
        "id": "hTFOIYDDgo-w"
      }
    },
    {
      "cell_type": "code",
      "source": [
        "PHI = U.T @ A\n",
        "\n",
        "fig, ax = plt.subplots(nrows=1,ncols=1)\n",
        "for i in range(PHI.shape[1]):\n",
        "  if(labels[i] ==  \"Iris-setosa\"):\n",
        "    ax.scatter(PHI[0, i], PHI[1, i], c=\"r\")\n",
        "  if(labels[i] == \"Iris-versicolor\"):\n",
        "    ax.scatter(PHI[0, i], PHI[1, i], c=\"b\")\n",
        "  if(labels[i] == \"Iris-virginica\"):\n",
        "    ax.scatter(PHI[0, i], PHI[1, i], c=\"y\")"
      ],
      "metadata": {
        "colab": {
          "base_uri": "https://localhost:8080/",
          "height": 265
        },
        "id": "FWAeo-PTgqxA",
        "outputId": "10ea3b02-5dfa-4945-e772-bf5a7f764106"
      },
      "execution_count": null,
      "outputs": [
        {
          "output_type": "display_data",
          "data": {
            "text/plain": [
              "<Figure size 432x288 with 1 Axes>"
            ],
            "image/png": "[encoded data removed]"
          },
          "metadata": {
            "needs_background": "light"
          }
        }
      ]
    }
  ]
}